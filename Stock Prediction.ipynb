{
 "cells": [
  {
   "cell_type": "markdown",
   "metadata": {},
   "source": [
    "# Predicting Stock Price Movement and Volatility using Multimodal & Multitask Deep Learning  "
   ]
  },
  {
   "cell_type": "markdown",
   "metadata": {},
   "source": [
    "#### Multimodal: \n",
    "Using price data and stock data as two inputs in two separate LSTMs and then concatenating them to form the model\n",
    "#### Multitask: \n",
    "Predicting Volatility (continuous measure) and Price Movement Direction (discrete: up or down) using a single model"
   ]
  },
  {
   "cell_type": "markdown",
   "metadata": {},
   "source": [
    "#### Datasets used:\n",
    "##### 1. News Data \n",
    "Crawled Historical News Headlines from Reddit WorldNews Channel. It has top 25 headlines for each date from August 2008 to July 2016, i.e 8 years.\n",
    "##### 2. Stock Data\n",
    "Dow Jones Industrial Average (DJIA) OHLCV (Open, High, Low, Close, Volume) tuple for each trading day from August 2008 to July 2016."
   ]
  },
  {
   "cell_type": "markdown",
   "metadata": {},
   "source": [
    "#### Import\n",
    "Importing the required libraries as well as preprocessing code."
   ]
  },
  {
   "cell_type": "code",
   "execution_count": 1,
   "metadata": {
    "collapsed": false,
    "scrolled": true
   },
   "outputs": [
    {
     "name": "stderr",
     "output_type": "stream",
     "text": [
      "Using Theano backend.\n"
     ]
    }
   ],
   "source": [
    "%matplotlib inline\n",
    "from process_data import *\n",
    "from keras.models import Sequential\n",
    "from keras.models import Model\n",
    "from keras.layers.core import Dense, Dropout, Activation, Flatten, Permute\n",
    "from keras.layers import Merge, Input, concatenate, average, add\n",
    "from keras.layers.recurrent import LSTM, GRU\n",
    "from keras.layers import Convolution1D, MaxPooling1D, AtrousConvolution1D, RepeatVector, AveragePooling1D\n",
    "from keras.callbacks import ModelCheckpoint, ReduceLROnPlateau, CSVLogger\n",
    "from keras.layers.wrappers import Bidirectional, TimeDistributed\n",
    "from keras import regularizers\n",
    "from keras.layers.normalization import BatchNormalization\n",
    "from keras.layers.advanced_activations import *\n",
    "from keras.optimizers import RMSprop, Adam, SGD, Nadam\n",
    "from keras.initializers import *\n",
    "from keras.constraints import *\n",
    "from keras import regularizers\n",
    "from keras import losses\n",
    "import matplotlib.pyplot as plt\n",
    "from sklearn import svm, datasets\n",
    "from sklearn.model_selection import train_test_split\n",
    "from sklearn.metrics import confusion_matrix"
   ]
  },
  {
   "cell_type": "markdown",
   "metadata": {},
   "source": [
    "#### Load Data\n",
    "Loading the price & news data and splitting each into test & training set. The sentences are converted to lists vectors of 100 dimensions using Google Word2Vec. Variables used are:\n",
    "\n",
    "X_train : Time series data\n",
    "\n",
    "X_train_text : word2vec decoded text data\n",
    "\n",
    "Y_train : Labels for voaltility\n",
    "\n",
    "Y_train2 : Labels for classification (movement direction)"
   ]
  },
  {
   "cell_type": "code",
   "execution_count": 2,
   "metadata": {
    "collapsed": false
   },
   "outputs": [
    {
     "name": "stdout",
     "output_type": "stream",
     "text": [
      "(1611, 5)\n",
      "(378, 5)\n",
      "KEK index 1611 is out of bounds for axis 0 with size 1611\n",
      "KEK index 378 is out of bounds for axis 0 with size 378\n"
     ]
    }
   ],
   "source": [
    "train, test = load_text_csv()\n",
    "data_chng_train, data_chng_test = load_ts_csv()\n",
    "\n",
    "train_text = cPickle.load(open('train_text.p', 'rb'))[1:]\n",
    "test_text = cPickle.load(open('test_text.p', 'rb'))[1:]\n",
    "\n",
    "train_text_vectors, test_text_vectors, model = transform_text_into_vectors(train_text, test_text, 100)\n",
    "\n",
    "X_train, X_train_text, Y_train, Y_train2 = split_into_XY(data_chng_train, train_text_vectors, 1, 30, 1)\n",
    "X_test, X_test_text, Y_test, Y_test2 = split_into_XY(data_chng_test, test_text_vectors, 1, 30, 1)\n",
    "\n",
    "\n",
    "X_train = np.reshape(X_train, (X_train.shape[0], X_train.shape[1], 5))\n",
    "X_test = np.reshape(X_test, (X_test.shape[0], X_test.shape[1], 5))\n"
   ]
  },
  {
   "cell_type": "markdown",
   "metadata": {},
   "source": [
    "#### Model Design\n",
    "The model is made by concatenating two LSTMs, one (lstm1) takes OHLCV tuple as input and the other (lstm2) takes vector representation of news data. The two outputs of the model are volatility (standard deviation - x1) and price movement direction (up or down - x2)"
   ]
  },
  {
   "cell_type": "code",
   "execution_count": 3,
   "metadata": {
    "collapsed": true
   },
   "outputs": [],
   "source": [
    "main_input = Input(shape=(30, 5), name='ts_input')\n",
    "text_input = Input(shape=(30, 100), name='text_input')\n",
    "lstm1 = LSTM(10, return_sequences=True, recurrent_dropout=0.25, dropout=0.25, bias_initializer='ones')(main_input)\n",
    "lstm1 = LSTM(10, return_sequences=True, recurrent_dropout=0.25, dropout=0.25, bias_initializer='ones')(lstm1)\n",
    "lstm1 = Flatten()(lstm1)\n",
    "lstm2 = LSTM(10, return_sequences=True, recurrent_dropout=0.25, dropout=0.25, bias_initializer='ones')(text_input)\n",
    "lstm2 = LSTM(10, return_sequences=True, recurrent_dropout=0.25, dropout=0.25, bias_initializer='ones')(lstm2)\n",
    "lstm2 = Flatten()(lstm2)\n",
    "\n",
    "\n",
    "lstms = concatenate([lstm1, lstm2])\n",
    "\n",
    "\n",
    "x1 = Dense(64)(lstms)\n",
    "x1 = LeakyReLU()(x1)\n",
    "x1 = Dense(1, activation = 'linear', name='regression')(x1)\n",
    "\n",
    "x2 = Dense(64)(lstms)\n",
    "x2 = LeakyReLU()(x2)\n",
    "x2 = Dropout(0.9)(x2)\n",
    "x2 = Dense(1, activation = 'sigmoid', name = 'class')(x2)\n",
    "\n",
    "final_model = Model(inputs=[main_input, text_input], \n",
    "              outputs=[x1, x2])"
   ]
  },
  {
   "cell_type": "markdown",
   "metadata": {},
   "source": [
    "#### Training the Model\n",
    "Training parameter like loss, optimizer & learning rate are set as below.. Volatility error is measured using MSE & price movement direction by Binary Crossentropy."
   ]
  },
  {
   "cell_type": "code",
   "execution_count": 4,
   "metadata": {
    "collapsed": true
   },
   "outputs": [],
   "source": [
    "opt = Nadam(lr=0.002, clipnorm = 0.5)\n",
    "reduce_lr = ReduceLROnPlateau(monitor='val_loss', factor=0.9, patience=50, min_lr=0.000001, verbose=1)\n",
    "checkpointer = ModelCheckpoint(monitor='val_loss', filepath=\"model.hdf5\", verbose=1, save_best_only=True)\n",
    "final_model.compile(optimizer=opt, loss={'regression': 'mse', 'class': 'binary_crossentropy'}, loss_weights=[1., 0.2])"
   ]
  },
  {
   "cell_type": "markdown",
   "metadata": {},
   "source": [
    "The training is performed for 100 epochs over the dataset with a batchsize of 100."
   ]
  },
  {
   "cell_type": "code",
   "execution_count": 5,
   "metadata": {
    "collapsed": false,
    "scrolled": true
   },
   "outputs": [
    {
     "name": "stderr",
     "output_type": "stream",
     "text": [
      "/home/amitoj/anaconda2/lib/python2.7/site-packages/ipykernel/__main__.py:6: UserWarning: The `nb_epoch` argument in `fit` has been renamed `epochs`.\n",
      "WARNING (theano.configdefaults): install mkl with `conda install mkl-service`: No module named mkl\n"
     ]
    },
    {
     "name": "stdout",
     "output_type": "stream",
     "text": [
      "Train on 1580 samples, validate on 347 samples\n",
      "Epoch 1/100\n",
      "1536/1580 [============================>.] - ETA: 0s - loss: 2.9727 - regression_loss: 2.7876 - class_loss: 0.9259Epoch 00000: val_loss improved from inf to 1.37760, saving model to model.hdf5\n",
      "1580/1580 [==============================] - 1s - loss: 2.8988 - regression_loss: 2.7138 - class_loss: 0.9249 - val_loss: 1.3776 - val_regression_loss: 1.2325 - val_class_loss: 0.7254\n",
      "Epoch 2/100\n",
      "1536/1580 [============================>.] - ETA: 0s - loss: 0.7964 - regression_loss: 0.6378 - class_loss: 0.7931Epoch 00001: val_loss improved from 1.37760 to 0.17953, saving model to model.hdf5\n",
      "1580/1580 [==============================] - 1s - loss: 0.8122 - regression_loss: 0.6535 - class_loss: 0.7935 - val_loss: 0.1795 - val_regression_loss: 0.0153 - val_class_loss: 0.8210\n",
      "Epoch 3/100\n",
      "1536/1580 [============================>.] - ETA: 0s - loss: 0.6764 - regression_loss: 0.4732 - class_loss: 1.0161Epoch 00002: val_loss did not improve\n",
      "1580/1580 [==============================] - 1s - loss: 0.6623 - regression_loss: 0.4607 - class_loss: 1.0081 - val_loss: 0.9434 - val_regression_loss: 0.8032 - val_class_loss: 0.7009\n",
      "Epoch 4/100\n",
      "1536/1580 [============================>.] - ETA: 0s - loss: 0.5456 - regression_loss: 0.3881 - class_loss: 0.7876Epoch 00003: val_loss improved from 0.17953 to 0.16297, saving model to model.hdf5\n",
      "1580/1580 [==============================] - 1s - loss: 0.5524 - regression_loss: 0.3948 - class_loss: 0.7876 - val_loss: 0.1630 - val_regression_loss: 0.0242 - val_class_loss: 0.6938\n",
      "Epoch 5/100\n",
      "1536/1580 [============================>.] - ETA: 0s - loss: 0.4749 - regression_loss: 0.3215 - class_loss: 0.7671Epoch 00004: val_loss did not improve\n",
      "1580/1580 [==============================] - 1s - loss: 0.4670 - regression_loss: 0.3132 - class_loss: 0.7693 - val_loss: 0.5981 - val_regression_loss: 0.4560 - val_class_loss: 0.7107\n",
      "Epoch 6/100\n",
      "1536/1580 [============================>.] - ETA: 0s - loss: 0.4030 - regression_loss: 0.2430 - class_loss: 0.8004Epoch 00005: val_loss did not improve\n",
      "1580/1580 [==============================] - 1s - loss: 0.4049 - regression_loss: 0.2454 - class_loss: 0.7976 - val_loss: 0.1793 - val_regression_loss: 0.0382 - val_class_loss: 0.7054\n",
      "Epoch 7/100\n",
      "1536/1580 [============================>.] - ETA: 0s - loss: 0.3271 - regression_loss: 0.1785 - class_loss: 0.7432Epoch 00006: val_loss did not improve\n",
      "1580/1580 [==============================] - 1s - loss: 0.3234 - regression_loss: 0.1745 - class_loss: 0.7442 - val_loss: 0.3873 - val_regression_loss: 0.2471 - val_class_loss: 0.7006\n",
      "Epoch 8/100\n",
      "1536/1580 [============================>.] - ETA: 0s - loss: 0.2907 - regression_loss: 0.1422 - class_loss: 0.7426Epoch 00007: val_loss did not improve\n",
      "1580/1580 [==============================] - 1s - loss: 0.2912 - regression_loss: 0.1432 - class_loss: 0.7402 - val_loss: 0.1671 - val_regression_loss: 0.0284 - val_class_loss: 0.6934\n",
      "Epoch 9/100\n",
      "1536/1580 [============================>.] - ETA: 0s - loss: 0.2569 - regression_loss: 0.1120 - class_loss: 0.7245Epoch 00008: val_loss did not improve\n",
      "1580/1580 [==============================] - 1s - loss: 0.2541 - regression_loss: 0.1093 - class_loss: 0.7241 - val_loss: 0.2671 - val_regression_loss: 0.1282 - val_class_loss: 0.6948\n",
      "Epoch 10/100\n",
      "1536/1580 [============================>.] - ETA: 0s - loss: 0.2413 - regression_loss: 0.0901 - class_loss: 0.7562Epoch 00009: val_loss improved from 0.16297 to 0.16136, saving model to model.hdf5\n",
      "1580/1580 [==============================] - 1s - loss: 0.2407 - regression_loss: 0.0898 - class_loss: 0.7545 - val_loss: 0.1614 - val_regression_loss: 0.0221 - val_class_loss: 0.6963\n",
      "Epoch 11/100\n",
      "1536/1580 [============================>.] - ETA: 0s - loss: 0.2095 - regression_loss: 0.0665 - class_loss: 0.7151Epoch 00010: val_loss did not improve\n",
      "1580/1580 [==============================] - 1s - loss: 0.2084 - regression_loss: 0.0652 - class_loss: 0.7160 - val_loss: 0.1769 - val_regression_loss: 0.0382 - val_class_loss: 0.6938\n",
      "Epoch 12/100\n",
      "1536/1580 [============================>.] - ETA: 0s - loss: 0.1988 - regression_loss: 0.0544 - class_loss: 0.7220Epoch 00011: val_loss improved from 0.16136 to 0.15112, saving model to model.hdf5\n",
      "1580/1580 [==============================] - 1s - loss: 0.1979 - regression_loss: 0.0536 - class_loss: 0.7216 - val_loss: 0.1511 - val_regression_loss: 0.0120 - val_class_loss: 0.6958\n",
      "Epoch 13/100\n",
      "1536/1580 [============================>.] - ETA: 0s - loss: 0.1831 - regression_loss: 0.0415 - class_loss: 0.7079Epoch 00012: val_loss did not improve\n",
      "1580/1580 [==============================] - 1s - loss: 0.1828 - regression_loss: 0.0412 - class_loss: 0.7080 - val_loss: 0.1521 - val_regression_loss: 0.0130 - val_class_loss: 0.6956\n",
      "Epoch 14/100\n",
      "1536/1580 [============================>.] - ETA: 0s - loss: 0.1785 - regression_loss: 0.0377 - class_loss: 0.7038Epoch 00013: val_loss did not improve\n",
      "1580/1580 [==============================] - 1s - loss: 0.1784 - regression_loss: 0.0375 - class_loss: 0.7041 - val_loss: 0.1512 - val_regression_loss: 0.0111 - val_class_loss: 0.7005\n",
      "Epoch 15/100\n",
      "1536/1580 [============================>.] - ETA: 0s - loss: 0.1787 - regression_loss: 0.0378 - class_loss: 0.7046Epoch 00014: val_loss improved from 0.15112 to 0.15021, saving model to model.hdf5\n",
      "1580/1580 [==============================] - 1s - loss: 0.1785 - regression_loss: 0.0374 - class_loss: 0.7056 - val_loss: 0.1502 - val_regression_loss: 0.0107 - val_class_loss: 0.6976\n",
      "Epoch 16/100\n",
      "1536/1580 [============================>.] - ETA: 0s - loss: 0.1680 - regression_loss: 0.0273 - class_loss: 0.7037Epoch 00015: val_loss did not improve\n",
      "1580/1580 [==============================] - 1s - loss: 0.1779 - regression_loss: 0.0370 - class_loss: 0.7041 - val_loss: 0.1677 - val_regression_loss: 0.0289 - val_class_loss: 0.6939\n",
      "Epoch 17/100\n",
      "1536/1580 [============================>.] - ETA: 0s - loss: 0.1846 - regression_loss: 0.0438 - class_loss: 0.7039Epoch 00016: val_loss did not improve\n",
      "1580/1580 [==============================] - 1s - loss: 0.1837 - regression_loss: 0.0430 - class_loss: 0.7035 - val_loss: 0.1520 - val_regression_loss: 0.0131 - val_class_loss: 0.6947\n",
      "Epoch 18/100\n",
      "1536/1580 [============================>.] - ETA: 0s - loss: 0.1773 - regression_loss: 0.0379 - class_loss: 0.6971Epoch 00017: val_loss improved from 0.15021 to 0.14974, saving model to model.hdf5\n",
      "1580/1580 [==============================] - 1s - loss: 0.1766 - regression_loss: 0.0371 - class_loss: 0.6976 - val_loss: 0.1497 - val_regression_loss: 0.0108 - val_class_loss: 0.6947\n",
      "Epoch 19/100\n",
      "1536/1580 [============================>.] - ETA: 0s - loss: 0.1769 - regression_loss: 0.0379 - class_loss: 0.6949Epoch 00018: val_loss improved from 0.14974 to 0.14899, saving model to model.hdf5\n",
      "1580/1580 [==============================] - 1s - loss: 0.1763 - regression_loss: 0.0371 - class_loss: 0.6961 - val_loss: 0.1490 - val_regression_loss: 0.0103 - val_class_loss: 0.6933\n",
      "Epoch 20/100\n",
      "1536/1580 [============================>.] - ETA: 0s - loss: 0.1763 - regression_loss: 0.0366 - class_loss: 0.6984Epoch 00019: val_loss did not improve\n",
      "1580/1580 [==============================] - 1s - loss: 0.1763 - regression_loss: 0.0366 - class_loss: 0.6984 - val_loss: 0.1505 - val_regression_loss: 0.0115 - val_class_loss: 0.6948\n",
      "Epoch 21/100\n",
      "1536/1580 [============================>.] - ETA: 0s - loss: 0.1753 - regression_loss: 0.0358 - class_loss: 0.6974Epoch 00020: val_loss did not improve\n",
      "1580/1580 [==============================] - 1s - loss: 0.1744 - regression_loss: 0.0349 - class_loss: 0.6972 - val_loss: 0.1491 - val_regression_loss: 0.0099 - val_class_loss: 0.6960\n",
      "Epoch 22/100\n",
      "1536/1580 [============================>.] - ETA: 0s - loss: 0.1732 - regression_loss: 0.0342 - class_loss: 0.6952Epoch 00021: val_loss improved from 0.14899 to 0.14890, saving model to model.hdf5\n",
      "1580/1580 [==============================] - 1s - loss: 0.1726 - regression_loss: 0.0336 - class_loss: 0.6951 - val_loss: 0.1489 - val_regression_loss: 0.0098 - val_class_loss: 0.6955\n",
      "Epoch 23/100\n",
      "1536/1580 [============================>.] - ETA: 0s - loss: 0.1736 - regression_loss: 0.0344 - class_loss: 0.6959Epoch 00022: val_loss improved from 0.14890 to 0.14872, saving model to model.hdf5\n",
      "1580/1580 [==============================] - 1s - loss: 0.1729 - regression_loss: 0.0336 - class_loss: 0.6963 - val_loss: 0.1487 - val_regression_loss: 0.0095 - val_class_loss: 0.6959\n",
      "Epoch 24/100\n",
      "1536/1580 [============================>.] - ETA: 0s - loss: 0.1699 - regression_loss: 0.0314 - class_loss: 0.6924Epoch 00023: val_loss did not improve\n",
      "1580/1580 [==============================] - 1s - loss: 0.1696 - regression_loss: 0.0311 - class_loss: 0.6920 - val_loss: 0.1514 - val_regression_loss: 0.0122 - val_class_loss: 0.6960\n",
      "Epoch 25/100\n",
      "1536/1580 [============================>.] - ETA: 0s - loss: 0.1719 - regression_loss: 0.0329 - class_loss: 0.6952Epoch 00024: val_loss improved from 0.14872 to 0.14763, saving model to model.hdf5\n",
      "1580/1580 [==============================] - 1s - loss: 0.1711 - regression_loss: 0.0322 - class_loss: 0.6946 - val_loss: 0.1476 - val_regression_loss: 0.0086 - val_class_loss: 0.6954\n",
      "Epoch 26/100\n",
      "1536/1580 [============================>.] - ETA: 0s - loss: 0.1711 - regression_loss: 0.0319 - class_loss: 0.6959Epoch 00025: val_loss improved from 0.14763 to 0.14722, saving model to model.hdf5\n",
      "1580/1580 [==============================] - 1s - loss: 0.1703 - regression_loss: 0.0312 - class_loss: 0.6958 - val_loss: 0.1472 - val_regression_loss: 0.0079 - val_class_loss: 0.6965\n",
      "Epoch 27/100\n",
      "1536/1580 [============================>.] - ETA: 0s - loss: 0.1687 - regression_loss: 0.0302 - class_loss: 0.6926Epoch 00026: val_loss did not improve\n",
      "1580/1580 [==============================] - 1s - loss: 0.1683 - regression_loss: 0.0297 - class_loss: 0.6930 - val_loss: 0.1478 - val_regression_loss: 0.0087 - val_class_loss: 0.6952\n",
      "Epoch 28/100\n",
      "1536/1580 [============================>.] - ETA: 0s - loss: 0.1647 - regression_loss: 0.0257 - class_loss: 0.6953Epoch 00027: val_loss improved from 0.14722 to 0.14631, saving model to model.hdf5\n",
      "1580/1580 [==============================] - 1s - loss: 0.1642 - regression_loss: 0.0251 - class_loss: 0.6952 - val_loss: 0.1463 - val_regression_loss: 0.0073 - val_class_loss: 0.6950\n",
      "Epoch 29/100\n",
      "1536/1580 [============================>.] - ETA: 0s - loss: 0.1711 - regression_loss: 0.0325 - class_loss: 0.6934Epoch 00028: val_loss improved from 0.14631 to 0.14585, saving model to model.hdf5\n",
      "1580/1580 [==============================] - 1s - loss: 0.1703 - regression_loss: 0.0317 - class_loss: 0.6930 - val_loss: 0.1458 - val_regression_loss: 0.0069 - val_class_loss: 0.6949\n",
      "Epoch 30/100\n",
      "1536/1580 [============================>.] - ETA: 0s - loss: 0.1665 - regression_loss: 0.0278 - class_loss: 0.6934Epoch 00029: val_loss did not improve\n",
      "1580/1580 [==============================] - 1s - loss: 0.1660 - regression_loss: 0.0274 - class_loss: 0.6931 - val_loss: 0.1472 - val_regression_loss: 0.0080 - val_class_loss: 0.6956\n",
      "Epoch 31/100\n",
      "1536/1580 [============================>.] - ETA: 0s - loss: 0.1665 - regression_loss: 0.0278 - class_loss: 0.6932Epoch 00030: val_loss improved from 0.14585 to 0.14521, saving model to model.hdf5\n",
      "1580/1580 [==============================] - 1s - loss: 0.1661 - regression_loss: 0.0274 - class_loss: 0.6934 - val_loss: 0.1452 - val_regression_loss: 0.0062 - val_class_loss: 0.6949\n",
      "Epoch 32/100\n",
      "1536/1580 [============================>.] - ETA: 0s - loss: 0.1594 - regression_loss: 0.0212 - class_loss: 0.6906Epoch 00031: val_loss did not improve\n",
      "1580/1580 [==============================] - 1s - loss: 0.1663 - regression_loss: 0.0280 - class_loss: 0.6914 - val_loss: 0.1546 - val_regression_loss: 0.0157 - val_class_loss: 0.6947\n",
      "Epoch 33/100\n",
      "1536/1580 [============================>.] - ETA: 0s - loss: 0.1758 - regression_loss: 0.0372 - class_loss: 0.6931Epoch 00032: val_loss did not improve\n",
      "1580/1580 [==============================] - 1s - loss: 0.1750 - regression_loss: 0.0363 - class_loss: 0.6934 - val_loss: 0.1456 - val_regression_loss: 0.0066 - val_class_loss: 0.6949\n",
      "Epoch 34/100\n",
      "1536/1580 [============================>.] - ETA: 0s - loss: 0.1603 - regression_loss: 0.0219 - class_loss: 0.6919Epoch 00033: val_loss improved from 0.14521 to 0.14492, saving model to model.hdf5\n",
      "1580/1580 [==============================] - 1s - loss: 0.1597 - regression_loss: 0.0214 - class_loss: 0.6911 - val_loss: 0.1449 - val_regression_loss: 0.0059 - val_class_loss: 0.6950\n",
      "Epoch 35/100\n",
      "1536/1580 [============================>.] - ETA: 0s - loss: 0.1598 - regression_loss: 0.0214 - class_loss: 0.6922Epoch 00034: val_loss did not improve\n",
      "1580/1580 [==============================] - 1s - loss: 0.1594 - regression_loss: 0.0210 - class_loss: 0.6919 - val_loss: 0.1451 - val_regression_loss: 0.0059 - val_class_loss: 0.6961\n",
      "Epoch 36/100\n",
      "1536/1580 [============================>.] - ETA: 0s - loss: 0.1661 - regression_loss: 0.0269 - class_loss: 0.6962Epoch 00035: val_loss improved from 0.14492 to 0.14427, saving model to model.hdf5\n",
      "1580/1580 [==============================] - 1s - loss: 0.1655 - regression_loss: 0.0264 - class_loss: 0.6955 - val_loss: 0.1443 - val_regression_loss: 0.0051 - val_class_loss: 0.6959\n",
      "Epoch 37/100\n",
      "1536/1580 [============================>.] - ETA: 0s - loss: 0.1664 - regression_loss: 0.0276 - class_loss: 0.6938Epoch 00036: val_loss improved from 0.14427 to 0.14409, saving model to model.hdf5\n",
      "1580/1580 [==============================] - 1s - loss: 0.1657 - regression_loss: 0.0270 - class_loss: 0.6937 - val_loss: 0.1441 - val_regression_loss: 0.0049 - val_class_loss: 0.6959\n",
      "Epoch 38/100\n",
      "1536/1580 [============================>.] - ETA: 0s - loss: 0.1615 - regression_loss: 0.0231 - class_loss: 0.6917Epoch 00037: val_loss improved from 0.14409 to 0.14347, saving model to model.hdf5\n",
      "1580/1580 [==============================] - 1s - loss: 0.1609 - regression_loss: 0.0225 - class_loss: 0.6916 - val_loss: 0.1435 - val_regression_loss: 0.0043 - val_class_loss: 0.6957\n",
      "Epoch 39/100\n",
      "1536/1580 [============================>.] - ETA: 0s - loss: 0.1619 - regression_loss: 0.0234 - class_loss: 0.6926Epoch 00038: val_loss improved from 0.14347 to 0.14328, saving model to model.hdf5\n",
      "1580/1580 [==============================] - 1s - loss: 0.1616 - regression_loss: 0.0230 - class_loss: 0.6929 - val_loss: 0.1433 - val_regression_loss: 0.0042 - val_class_loss: 0.6955\n",
      "Epoch 40/100\n",
      "1536/1580 [============================>.] - ETA: 0s - loss: 0.1544 - regression_loss: 0.0162 - class_loss: 0.6910Epoch 00039: val_loss did not improve\n",
      "1580/1580 [==============================] - 1s - loss: 0.1572 - regression_loss: 0.0191 - class_loss: 0.6906 - val_loss: 0.1446 - val_regression_loss: 0.0055 - val_class_loss: 0.6955\n",
      "Epoch 41/100\n",
      "1536/1580 [============================>.] - ETA: 0s - loss: 0.1602 - regression_loss: 0.0226 - class_loss: 0.6881Epoch 00040: val_loss improved from 0.14328 to 0.14282, saving model to model.hdf5\n",
      "1580/1580 [==============================] - 1s - loss: 0.1597 - regression_loss: 0.0221 - class_loss: 0.6884 - val_loss: 0.1428 - val_regression_loss: 0.0037 - val_class_loss: 0.6958\n",
      "Epoch 42/100\n",
      "1536/1580 [============================>.] - ETA: 0s - loss: 0.1529 - regression_loss: 0.0151 - class_loss: 0.6894Epoch 00041: val_loss did not improve\n",
      "1580/1580 [==============================] - 1s - loss: 0.1528 - regression_loss: 0.0149 - class_loss: 0.6892 - val_loss: 0.1428 - val_regression_loss: 0.0036 - val_class_loss: 0.6959\n",
      "Epoch 43/100\n",
      "1536/1580 [============================>.] - ETA: 0s - loss: 0.1507 - regression_loss: 0.0120 - class_loss: 0.6937Epoch 00042: val_loss did not improve\n",
      "1580/1580 [==============================] - 1s - loss: 0.1577 - regression_loss: 0.0190 - class_loss: 0.6934 - val_loss: 0.2416 - val_regression_loss: 0.1025 - val_class_loss: 0.6956\n",
      "Epoch 44/100\n",
      "1536/1580 [============================>.] - ETA: 0s - loss: 0.1725 - regression_loss: 0.0340 - class_loss: 0.6925Epoch 00043: val_loss did not improve\n",
      "1580/1580 [==============================] - 1s - loss: 0.1766 - regression_loss: 0.0380 - class_loss: 0.6929 - val_loss: 0.1556 - val_regression_loss: 0.0166 - val_class_loss: 0.6950\n",
      "Epoch 45/100\n",
      "1536/1580 [============================>.] - ETA: 0s - loss: 0.1575 - regression_loss: 0.0193 - class_loss: 0.6911Epoch 00044: val_loss improved from 0.14282 to 0.14242, saving model to model.hdf5\n",
      "1580/1580 [==============================] - 1s - loss: 0.1583 - regression_loss: 0.0201 - class_loss: 0.6910 - val_loss: 0.1424 - val_regression_loss: 0.0034 - val_class_loss: 0.6952\n",
      "Epoch 46/100\n",
      "1536/1580 [============================>.] - ETA: 0s - loss: 0.1521 - regression_loss: 0.0145 - class_loss: 0.6880Epoch 00045: val_loss did not improve\n",
      "1580/1580 [==============================] - 1s - loss: 0.1520 - regression_loss: 0.0143 - class_loss: 0.6884 - val_loss: 0.1425 - val_regression_loss: 0.0034 - val_class_loss: 0.6956\n",
      "Epoch 47/100\n",
      "1536/1580 [============================>.] - ETA: 0s - loss: 0.1486 - regression_loss: 0.0105 - class_loss: 0.6907Epoch 00046: val_loss did not improve\n",
      "1580/1580 [==============================] - 1s - loss: 0.1494 - regression_loss: 0.0113 - class_loss: 0.6904 - val_loss: 0.1429 - val_regression_loss: 0.0038 - val_class_loss: 0.6955\n",
      "Epoch 48/100\n",
      "1536/1580 [============================>.] - ETA: 0s - loss: 0.1501 - regression_loss: 0.0121 - class_loss: 0.6901Epoch 00047: val_loss did not improve\n",
      "1580/1580 [==============================] - 1s - loss: 0.1501 - regression_loss: 0.0120 - class_loss: 0.6903 - val_loss: 0.1427 - val_regression_loss: 0.0036 - val_class_loss: 0.6953\n",
      "Epoch 49/100\n",
      "1536/1580 [============================>.] - ETA: 0s - loss: 0.1480 - regression_loss: 0.0098 - class_loss: 0.6906Epoch 00048: val_loss did not improve\n",
      "1580/1580 [==============================] - 1s - loss: 0.1495 - regression_loss: 0.0113 - class_loss: 0.6908 - val_loss: 0.1441 - val_regression_loss: 0.0050 - val_class_loss: 0.6953\n",
      "Epoch 50/100\n",
      "1536/1580 [============================>.] - ETA: 0s - loss: 0.1560 - regression_loss: 0.0182 - class_loss: 0.6888Epoch 00049: val_loss did not improve\n",
      "1580/1580 [==============================] - 1s - loss: 0.1557 - regression_loss: 0.0179 - class_loss: 0.6890 - val_loss: 0.1427 - val_regression_loss: 0.0038 - val_class_loss: 0.6947\n",
      "Epoch 51/100\n",
      "1536/1580 [============================>.] - ETA: 0s - loss: 0.1493 - regression_loss: 0.0114 - class_loss: 0.6895Epoch 00050: val_loss did not improve\n",
      "1580/1580 [==============================] - 1s - loss: 0.1493 - regression_loss: 0.0114 - class_loss: 0.6891 - val_loss: 0.1430 - val_regression_loss: 0.0040 - val_class_loss: 0.6953\n",
      "Epoch 52/100\n",
      "1536/1580 [============================>.] - ETA: 0s - loss: 0.1529 - regression_loss: 0.0148 - class_loss: 0.6905Epoch 00051: val_loss did not improve\n",
      "1580/1580 [==============================] - 1s - loss: 0.1529 - regression_loss: 0.0148 - class_loss: 0.6905 - val_loss: 0.1439 - val_regression_loss: 0.0048 - val_class_loss: 0.6956\n",
      "Epoch 53/100\n",
      "1536/1580 [============================>.] - ETA: 0s - loss: 0.1484 - regression_loss: 0.0101 - class_loss: 0.6916Epoch 00052: val_loss did not improve\n",
      "1580/1580 [==============================] - 1s - loss: 0.1481 - regression_loss: 0.0099 - class_loss: 0.6911 - val_loss: 0.1428 - val_regression_loss: 0.0036 - val_class_loss: 0.6959\n",
      "Epoch 54/100\n",
      "1536/1580 [============================>.] - ETA: 0s - loss: 0.1517 - regression_loss: 0.0138 - class_loss: 0.6896Epoch 00053: val_loss did not improve\n",
      "1580/1580 [==============================] - 1s - loss: 0.1516 - regression_loss: 0.0137 - class_loss: 0.6895 - val_loss: 0.1425 - val_regression_loss: 0.0033 - val_class_loss: 0.6958\n",
      "Epoch 55/100\n",
      "1536/1580 [============================>.] - ETA: 0s - loss: 0.1467 - regression_loss: 0.0085 - class_loss: 0.6911Epoch 00054: val_loss did not improve\n",
      "1580/1580 [==============================] - 1s - loss: 0.1467 - regression_loss: 0.0083 - class_loss: 0.6918 - val_loss: 0.1427 - val_regression_loss: 0.0036 - val_class_loss: 0.6958\n",
      "Epoch 56/100\n",
      "1536/1580 [============================>.] - ETA: 0s - loss: 0.1516 - regression_loss: 0.0134 - class_loss: 0.6909Epoch 00055: val_loss did not improve\n",
      "1580/1580 [==============================] - 1s - loss: 0.1515 - regression_loss: 0.0132 - class_loss: 0.6913 - val_loss: 0.1427 - val_regression_loss: 0.0036 - val_class_loss: 0.6951\n",
      "Epoch 57/100\n",
      "1536/1580 [============================>.] - ETA: 0s - loss: 0.1494 - regression_loss: 0.0112 - class_loss: 0.6911Epoch 00056: val_loss did not improve\n",
      "1580/1580 [==============================] - 1s - loss: 0.1493 - regression_loss: 0.0110 - class_loss: 0.6917 - val_loss: 0.1425 - val_regression_loss: 0.0035 - val_class_loss: 0.6949\n",
      "Epoch 58/100\n",
      "1536/1580 [============================>.] - ETA: 0s - loss: 0.1524 - regression_loss: 0.0142 - class_loss: 0.6909Epoch 00057: val_loss did not improve\n",
      "1580/1580 [==============================] - 1s - loss: 0.1522 - regression_loss: 0.0140 - class_loss: 0.6910 - val_loss: 0.1432 - val_regression_loss: 0.0042 - val_class_loss: 0.6949\n",
      "Epoch 59/100\n",
      "1536/1580 [============================>.] - ETA: 0s - loss: 0.1513 - regression_loss: 0.0128 - class_loss: 0.6926Epoch 00058: val_loss did not improve\n",
      "1580/1580 [==============================] - 1s - loss: 0.1510 - regression_loss: 0.0125 - class_loss: 0.6923 - val_loss: 0.1427 - val_regression_loss: 0.0037 - val_class_loss: 0.6952\n",
      "Epoch 60/100\n",
      "1536/1580 [============================>.] - ETA: 0s - loss: 0.1502 - regression_loss: 0.0121 - class_loss: 0.6901Epoch 00059: val_loss did not improve\n",
      "1580/1580 [==============================] - 1s - loss: 0.1498 - regression_loss: 0.0119 - class_loss: 0.6897 - val_loss: 0.1427 - val_regression_loss: 0.0036 - val_class_loss: 0.6956\n",
      "Epoch 61/100\n",
      "1536/1580 [============================>.] - ETA: 0s - loss: 0.1456 - regression_loss: 0.0076 - class_loss: 0.6900Epoch 00060: val_loss did not improve\n",
      "1580/1580 [==============================] - 1s - loss: 0.1456 - regression_loss: 0.0076 - class_loss: 0.6899 - val_loss: 0.1433 - val_regression_loss: 0.0041 - val_class_loss: 0.6958\n",
      "Epoch 62/100\n",
      "1536/1580 [============================>.] - ETA: 0s - loss: 0.1480 - regression_loss: 0.0099 - class_loss: 0.6905Epoch 00061: val_loss did not improve\n",
      "1580/1580 [==============================] - 1s - loss: 0.1478 - regression_loss: 0.0097 - class_loss: 0.6904 - val_loss: 0.1426 - val_regression_loss: 0.0035 - val_class_loss: 0.6959\n",
      "Epoch 63/100\n",
      "1536/1580 [============================>.] - ETA: 0s - loss: 0.1460 - regression_loss: 0.0079 - class_loss: 0.6906Epoch 00062: val_loss did not improve\n",
      "1580/1580 [==============================] - 1s - loss: 0.1460 - regression_loss: 0.0079 - class_loss: 0.6908 - val_loss: 0.1436 - val_regression_loss: 0.0044 - val_class_loss: 0.6959\n",
      "Epoch 64/100\n",
      "1536/1580 [============================>.] - ETA: 0s - loss: 0.1462 - regression_loss: 0.0078 - class_loss: 0.6917Epoch 00063: val_loss did not improve\n",
      "1580/1580 [==============================] - 1s - loss: 0.1462 - regression_loss: 0.0078 - class_loss: 0.6919 - val_loss: 0.1429 - val_regression_loss: 0.0038 - val_class_loss: 0.6957\n",
      "Epoch 65/100\n",
      "1536/1580 [============================>.] - ETA: 0s - loss: 0.1510 - regression_loss: 0.0130 - class_loss: 0.6901Epoch 00064: val_loss did not improve\n",
      "1580/1580 [==============================] - 1s - loss: 0.1509 - regression_loss: 0.0128 - class_loss: 0.6902 - val_loss: 0.1432 - val_regression_loss: 0.0041 - val_class_loss: 0.6954\n",
      "Epoch 66/100\n",
      "1536/1580 [============================>.] - ETA: 0s - loss: 0.1488 - regression_loss: 0.0105 - class_loss: 0.6914Epoch 00065: val_loss did not improve\n",
      "1580/1580 [==============================] - 1s - loss: 0.1487 - regression_loss: 0.0104 - class_loss: 0.6915 - val_loss: 0.1425 - val_regression_loss: 0.0035 - val_class_loss: 0.6952\n",
      "Epoch 67/100\n",
      "1536/1580 [============================>.] - ETA: 0s - loss: 0.1520 - regression_loss: 0.0139 - class_loss: 0.6901Epoch 00066: val_loss did not improve\n",
      "1580/1580 [==============================] - 1s - loss: 0.1516 - regression_loss: 0.0137 - class_loss: 0.6899 - val_loss: 0.1425 - val_regression_loss: 0.0034 - val_class_loss: 0.6953\n",
      "Epoch 68/100\n",
      "1536/1580 [============================>.] - ETA: 0s - loss: 0.1456 - regression_loss: 0.0077 - class_loss: 0.6896Epoch 00067: val_loss did not improve\n",
      "1580/1580 [==============================] - 1s - loss: 0.1454 - regression_loss: 0.0076 - class_loss: 0.6893 - val_loss: 0.1428 - val_regression_loss: 0.0037 - val_class_loss: 0.6957\n",
      "Epoch 69/100\n",
      "1536/1580 [============================>.] - ETA: 0s - loss: 0.1507 - regression_loss: 0.0124 - class_loss: 0.6916Epoch 00068: val_loss did not improve\n",
      "1580/1580 [==============================] - 1s - loss: 0.1506 - regression_loss: 0.0122 - class_loss: 0.6916 - val_loss: 0.1425 - val_regression_loss: 0.0033 - val_class_loss: 0.6958\n",
      "Epoch 70/100\n",
      "1536/1580 [============================>.] - ETA: 0s - loss: 0.1498 - regression_loss: 0.0116 - class_loss: 0.6909Epoch 00069: val_loss did not improve\n",
      "1580/1580 [==============================] - 1s - loss: 0.1496 - regression_loss: 0.0114 - class_loss: 0.6911 - val_loss: 0.1426 - val_regression_loss: 0.0034 - val_class_loss: 0.6957\n",
      "Epoch 71/100\n",
      "1536/1580 [============================>.] - ETA: 0s - loss: 0.1528 - regression_loss: 0.0148 - class_loss: 0.6901Epoch 00070: val_loss did not improve\n",
      "1580/1580 [==============================] - 1s - loss: 0.1526 - regression_loss: 0.0146 - class_loss: 0.6902 - val_loss: 0.1427 - val_regression_loss: 0.0036 - val_class_loss: 0.6957\n",
      "Epoch 72/100\n",
      "1536/1580 [============================>.] - ETA: 0s - loss: 0.1466 - regression_loss: 0.0090 - class_loss: 0.6883Epoch 00071: val_loss did not improve\n",
      "1580/1580 [==============================] - 1s - loss: 0.1466 - regression_loss: 0.0090 - class_loss: 0.6884 - val_loss: 0.1425 - val_regression_loss: 0.0033 - val_class_loss: 0.6958\n",
      "Epoch 73/100\n",
      "1536/1580 [============================>.] - ETA: 0s - loss: 0.1444 - regression_loss: 0.0066 - class_loss: 0.6890Epoch 00072: val_loss did not improve\n",
      "1580/1580 [==============================] - 1s - loss: 0.1486 - regression_loss: 0.0108 - class_loss: 0.6888 - val_loss: 0.1545 - val_regression_loss: 0.0153 - val_class_loss: 0.6960\n",
      "Epoch 74/100\n",
      "1536/1580 [============================>.] - ETA: 0s - loss: 0.1521 - regression_loss: 0.0139 - class_loss: 0.6909Epoch 00073: val_loss improved from 0.14242 to 0.14241, saving model to model.hdf5\n",
      "1580/1580 [==============================] - 1s - loss: 0.1519 - regression_loss: 0.0137 - class_loss: 0.6911 - val_loss: 0.1424 - val_regression_loss: 0.0033 - val_class_loss: 0.6957\n",
      "Epoch 75/100\n",
      "1536/1580 [============================>.] - ETA: 0s - loss: 0.1459 - regression_loss: 0.0079 - class_loss: 0.6897Epoch 00074: val_loss did not improve\n",
      "1580/1580 [==============================] - 1s - loss: 0.1458 - regression_loss: 0.0078 - class_loss: 0.6901 - val_loss: 0.1428 - val_regression_loss: 0.0037 - val_class_loss: 0.6957\n",
      "Epoch 76/100\n",
      "1536/1580 [============================>.] - ETA: 0s - loss: 0.1453 - regression_loss: 0.0072 - class_loss: 0.6906Epoch 00075: val_loss did not improve\n",
      "1580/1580 [==============================] - 1s - loss: 0.1452 - regression_loss: 0.0071 - class_loss: 0.6904 - val_loss: 0.1430 - val_regression_loss: 0.0038 - val_class_loss: 0.6957\n",
      "Epoch 77/100\n",
      "1536/1580 [============================>.] - ETA: 0s - loss: 0.1450 - regression_loss: 0.0069 - class_loss: 0.6906Epoch 00076: val_loss did not improve\n",
      "1580/1580 [==============================] - 1s - loss: 0.1449 - regression_loss: 0.0068 - class_loss: 0.6905 - val_loss: 0.1429 - val_regression_loss: 0.0038 - val_class_loss: 0.6957\n",
      "Epoch 78/100\n",
      "1536/1580 [============================>.] - ETA: 0s - loss: 0.1432 - regression_loss: 0.0055 - class_loss: 0.6884Epoch 00077: val_loss did not improve\n",
      "1580/1580 [==============================] - 1s - loss: 0.1431 - regression_loss: 0.0055 - class_loss: 0.6882 - val_loss: 0.1431 - val_regression_loss: 0.0040 - val_class_loss: 0.6956\n",
      "Epoch 79/100\n",
      "1536/1580 [============================>.] - ETA: 0s - loss: 0.1451 - regression_loss: 0.0072 - class_loss: 0.6893Epoch 00078: val_loss did not improve\n",
      "1580/1580 [==============================] - 1s - loss: 0.1451 - regression_loss: 0.0071 - class_loss: 0.6900 - val_loss: 0.1430 - val_regression_loss: 0.0039 - val_class_loss: 0.6953\n",
      "Epoch 80/100\n",
      "1536/1580 [============================>.] - ETA: 0s - loss: 0.1456 - regression_loss: 0.0075 - class_loss: 0.6907Epoch 00079: val_loss did not improve\n",
      "1580/1580 [==============================] - 1s - loss: 0.1454 - regression_loss: 0.0074 - class_loss: 0.6901 - val_loss: 0.1429 - val_regression_loss: 0.0038 - val_class_loss: 0.6953\n",
      "Epoch 81/100\n",
      "1536/1580 [============================>.] - ETA: 0s - loss: 0.1451 - regression_loss: 0.0070 - class_loss: 0.6906Epoch 00080: val_loss did not improve\n",
      "1580/1580 [==============================] - 1s - loss: 0.1451 - regression_loss: 0.0069 - class_loss: 0.6910 - val_loss: 0.1427 - val_regression_loss: 0.0037 - val_class_loss: 0.6951\n",
      "Epoch 82/100\n",
      "1536/1580 [============================>.] - ETA: 0s - loss: 0.1463 - regression_loss: 0.0084 - class_loss: 0.6896Epoch 00081: val_loss improved from 0.14241 to 0.14225, saving model to model.hdf5\n",
      "1580/1580 [==============================] - 1s - loss: 0.1461 - regression_loss: 0.0083 - class_loss: 0.6891 - val_loss: 0.1423 - val_regression_loss: 0.0032 - val_class_loss: 0.6952\n",
      "Epoch 83/100\n",
      "1536/1580 [============================>.] - ETA: 0s - loss: 0.1552 - regression_loss: 0.0170 - class_loss: 0.6911Epoch 00082: val_loss did not improve\n",
      "1580/1580 [==============================] - 1s - loss: 0.1549 - regression_loss: 0.0166 - class_loss: 0.6911 - val_loss: 0.1423 - val_regression_loss: 0.0033 - val_class_loss: 0.6952\n",
      "Epoch 84/100\n",
      "1536/1580 [============================>.] - ETA: 0s - loss: 0.1449 - regression_loss: 0.0071 - class_loss: 0.6886Epoch 00083: val_loss improved from 0.14225 to 0.14220, saving model to model.hdf5\n",
      "1580/1580 [==============================] - 1s - loss: 0.1448 - regression_loss: 0.0070 - class_loss: 0.6887 - val_loss: 0.1422 - val_regression_loss: 0.0032 - val_class_loss: 0.6951\n",
      "Epoch 85/100\n",
      "1536/1580 [============================>.] - ETA: 0s - loss: 0.1439 - regression_loss: 0.0060 - class_loss: 0.6892Epoch 00084: val_loss improved from 0.14220 to 0.14199, saving model to model.hdf5\n",
      "1580/1580 [==============================] - 1s - loss: 0.1439 - regression_loss: 0.0060 - class_loss: 0.6894 - val_loss: 0.1420 - val_regression_loss: 0.0030 - val_class_loss: 0.6949\n",
      "Epoch 86/100\n",
      "1536/1580 [============================>.] - ETA: 0s - loss: 0.1458 - regression_loss: 0.0083 - class_loss: 0.6877Epoch 00085: val_loss improved from 0.14199 to 0.14198, saving model to model.hdf5\n",
      "1580/1580 [==============================] - 1s - loss: 0.1458 - regression_loss: 0.0081 - class_loss: 0.6884 - val_loss: 0.1420 - val_regression_loss: 0.0030 - val_class_loss: 0.6950\n",
      "Epoch 87/100\n",
      "1536/1580 [============================>.] - ETA: 0s - loss: 0.1437 - regression_loss: 0.0054 - class_loss: 0.6915Epoch 00086: val_loss did not improve\n",
      "1580/1580 [==============================] - 1s - loss: 0.1435 - regression_loss: 0.0053 - class_loss: 0.6911 - val_loss: 0.1420 - val_regression_loss: 0.0029 - val_class_loss: 0.6953\n",
      "Epoch 88/100\n",
      "1536/1580 [============================>.] - ETA: 0s - loss: 0.1456 - regression_loss: 0.0076 - class_loss: 0.6899Epoch 00087: val_loss did not improve\n",
      "1580/1580 [==============================] - 1s - loss: 0.1454 - regression_loss: 0.0075 - class_loss: 0.6896 - val_loss: 0.1425 - val_regression_loss: 0.0034 - val_class_loss: 0.6957\n",
      "Epoch 89/100\n",
      "1536/1580 [============================>.] - ETA: 0s - loss: 0.1448 - regression_loss: 0.0067 - class_loss: 0.6906Epoch 00088: val_loss did not improve\n",
      "1580/1580 [==============================] - 1s - loss: 0.1448 - regression_loss: 0.0066 - class_loss: 0.6907 - val_loss: 0.1427 - val_regression_loss: 0.0035 - val_class_loss: 0.6960\n",
      "Epoch 90/100\n",
      "1536/1580 [============================>.] - ETA: 0s - loss: 0.1452 - regression_loss: 0.0073 - class_loss: 0.6894Epoch 00089: val_loss did not improve\n",
      "1580/1580 [==============================] - 1s - loss: 0.1451 - regression_loss: 0.0072 - class_loss: 0.6894 - val_loss: 0.1423 - val_regression_loss: 0.0031 - val_class_loss: 0.6960\n",
      "Epoch 91/100\n",
      "1536/1580 [============================>.] - ETA: 0s - loss: 0.1485 - regression_loss: 0.0104 - class_loss: 0.6906Epoch 00090: val_loss did not improve\n",
      "1580/1580 [==============================] - 1s - loss: 0.1483 - regression_loss: 0.0102 - class_loss: 0.6904 - val_loss: 0.1423 - val_regression_loss: 0.0031 - val_class_loss: 0.6960\n",
      "Epoch 92/100\n",
      "1536/1580 [============================>.] - ETA: 0s - loss: 0.1439 - regression_loss: 0.0059 - class_loss: 0.6899Epoch 00091: val_loss did not improve\n",
      "1580/1580 [==============================] - 1s - loss: 0.1439 - regression_loss: 0.0059 - class_loss: 0.6898 - val_loss: 0.1427 - val_regression_loss: 0.0035 - val_class_loss: 0.6959\n",
      "Epoch 93/100\n",
      "1536/1580 [============================>.] - ETA: 0s - loss: 0.1429 - regression_loss: 0.0052 - class_loss: 0.6887Epoch 00092: val_loss did not improve\n",
      "1580/1580 [==============================] - 1s - loss: 0.1429 - regression_loss: 0.0052 - class_loss: 0.6885 - val_loss: 0.1422 - val_regression_loss: 0.0030 - val_class_loss: 0.6960\n",
      "Epoch 94/100\n",
      "1536/1580 [============================>.] - ETA: 0s - loss: 0.1449 - regression_loss: 0.0068 - class_loss: 0.6906Epoch 00093: val_loss did not improve\n",
      "1580/1580 [==============================] - 1s - loss: 0.1447 - regression_loss: 0.0067 - class_loss: 0.6903 - val_loss: 0.1423 - val_regression_loss: 0.0031 - val_class_loss: 0.6961\n",
      "Epoch 95/100\n",
      "1536/1580 [============================>.] - ETA: 0s - loss: 0.1451 - regression_loss: 0.0073 - class_loss: 0.6892Epoch 00094: val_loss did not improve\n",
      "1580/1580 [==============================] - 1s - loss: 0.1449 - regression_loss: 0.0072 - class_loss: 0.6887 - val_loss: 0.1421 - val_regression_loss: 0.0029 - val_class_loss: 0.6964\n",
      "Epoch 96/100\n",
      "1536/1580 [============================>.] - ETA: 0s - loss: 0.1439 - regression_loss: 0.0060 - class_loss: 0.6893Epoch 00095: val_loss did not improve\n",
      "1580/1580 [==============================] - 1s - loss: 0.1438 - regression_loss: 0.0059 - class_loss: 0.6893 - val_loss: 0.1421 - val_regression_loss: 0.0029 - val_class_loss: 0.6961\n",
      "Epoch 97/100\n",
      "1536/1580 [============================>.] - ETA: 0s - loss: 0.1445 - regression_loss: 0.0066 - class_loss: 0.6895Epoch 00096: val_loss did not improve\n",
      "1580/1580 [==============================] - 1s - loss: 0.1443 - regression_loss: 0.0065 - class_loss: 0.6892 - val_loss: 0.1428 - val_regression_loss: 0.0036 - val_class_loss: 0.6962\n",
      "Epoch 98/100\n",
      "1536/1580 [============================>.] - ETA: 0s - loss: 0.1461 - regression_loss: 0.0081 - class_loss: 0.6898Epoch 00097: val_loss did not improve\n",
      "1580/1580 [==============================] - 1s - loss: 0.1462 - regression_loss: 0.0081 - class_loss: 0.6904 - val_loss: 0.1420 - val_regression_loss: 0.0028 - val_class_loss: 0.6958\n",
      "Epoch 99/100\n",
      "1536/1580 [============================>.] - ETA: 0s - loss: 0.1435 - regression_loss: 0.0056 - class_loss: 0.6898Epoch 00098: val_loss did not improve\n",
      "1580/1580 [==============================] - 1s - loss: 0.1434 - regression_loss: 0.0055 - class_loss: 0.6893 - val_loss: 0.1425 - val_regression_loss: 0.0032 - val_class_loss: 0.6961\n",
      "Epoch 100/100\n",
      "1536/1580 [============================>.] - ETA: 0s - loss: 0.1451 - regression_loss: 0.0070 - class_loss: 0.6908Epoch 00099: val_loss improved from 0.14198 to 0.14189, saving model to model.hdf5\n",
      "1580/1580 [==============================] - 1s - loss: 0.1451 - regression_loss: 0.0069 - class_loss: 0.6910 - val_loss: 0.1419 - val_regression_loss: 0.0027 - val_class_loss: 0.6959\n"
     ]
    }
   ],
   "source": [
    "history = final_model.fit([X_train, X_train_text], [Y_train, Y_train2],\n",
    "\t\tnb_epoch = 100, \n",
    "\t\tbatch_size = 256, \n",
    "\t\tverbose=1, \n",
    "\t\tvalidation_data=([X_test, X_test_text], [Y_test, Y_test2]), \n",
    "\t\tcallbacks=[reduce_lr, checkpointer], shuffle=True)"
   ]
  },
  {
   "cell_type": "markdown",
   "metadata": {},
   "source": [
    "#### Evaluation\n",
    "The below graph shows how the overall training & test losses decreased during training. "
   ]
  },
  {
   "cell_type": "code",
   "execution_count": 6,
   "metadata": {
    "collapsed": false
   },
   "outputs": [
    {
     "data": {
      "image/png": "[encoded data removed]",
      "text/plain": [
       "<matplotlib.figure.Figure at 0x7fa858bcd210>"
      ]
     },
     "metadata": {},
     "output_type": "display_data"
    }
   ],
   "source": [
    "plt.figure()\n",
    "plt.plot(history.history['loss'])\n",
    "plt.plot(history.history['val_loss'])\n",
    "plt.title('model loss')\n",
    "plt.ylabel('loss')\n",
    "plt.xlabel('epoch')\n",
    "plt.legend(['train', 'test'], loc='best')\n",
    "plt.show()"
   ]
  },
  {
   "cell_type": "markdown",
   "metadata": {},
   "source": [
    "Predictions of volatility are shown in blue while the actual volatility is in black. The model is very effective in capturing drastic changes in volatility. Note that these values are normalized (between 0 & 1)."
   ]
  },
  {
   "cell_type": "code",
   "execution_count": 4,
   "metadata": {
    "collapsed": false
   },
   "outputs": [
    {
     "name": "stderr",
     "output_type": "stream",
     "text": [
      "WARNING (theano.configdefaults): install mkl with `conda install mkl-service`: No module named mkl\n",
      "/home/amitoj/anaconda2/lib/python2.7/site-packages/matplotlib/axes/_axes.py:545: UserWarning: No labelled objects found. Use label='...' kwarg on individual plots.\n",
      "  warnings.warn(\"No labelled objects found. \"\n"
     ]
    },
    {
     "data": {
      "image/png": "[encoded data removed]",
      "text/plain": [
       "<matplotlib.figure.Figure at 0x7f1ced71a290>"
      ]
     },
     "metadata": {},
     "output_type": "display_data"
    },
    {
     "name": "stdout",
     "output_type": "stream",
     "text": [
      "0.0171427005365\n",
      "0.0708852836538\n",
      "3.15806185535\n"
     ]
    }
   ],
   "source": [
    "final_model.load_weights(\"model.hdf5\")\n",
    "pred = final_model.predict([X_test, X_test_text])[0]\n",
    "\n",
    "predicted = pred\n",
    "original = Y_test\n",
    "\n",
    "plt.title('Actual and predicted')\n",
    "plt.legend(loc='best')\n",
    "plt.plot(original, color='black', label = 'Original data')\n",
    "plt.plot(pred, color='blue', label = 'Predicted data')\n",
    "plt.show()\n",
    "print np.mean(np.square(predicted - original))\n",
    "print np.mean(np.abs(predicted - original))\n",
    "print np.mean(np.abs((original - predicted) / original))"
   ]
  },
  {
   "cell_type": "code",
   "execution_count": 5,
   "metadata": {
    "collapsed": false
   },
   "outputs": [],
   "source": [
    "preds = final_model.predict([X_test, X_test_text])[1]"
   ]
  },
  {
   "cell_type": "code",
   "execution_count": 7,
   "metadata": {
    "collapsed": true
   },
   "outputs": [],
   "source": [
    "def plot_confusion_matrix(cm, classes,\n",
    "                          normalize=False,\n",
    "                          title='Confusion matrix',\n",
    "                          cmap=plt.cm.Blues):\n",
    "  \n",
    "    print(cm)\n",
    "\n",
    "    plt.imshow(cm, interpolation='nearest', cmap=cmap)\n",
    "    plt.title(title)\n",
    "    plt.colorbar()\n",
    "    tick_marks = np.arange(len(classes))\n",
    "    plt.xticks(tick_marks, classes, rotation=45)\n",
    "    plt.yticks(tick_marks, classes)\n",
    "\n",
    "    fmt = '.2f' if normalize else 'd'\n",
    "    thresh = cm.max() / 2.\n",
    "    for i, j in itertools.product(range(cm.shape[0]), range(cm.shape[1])):\n",
    "        plt.text(j, i, format(cm[i, j], fmt),\n",
    "                 horizontalalignment=\"center\",\n",
    "                 color=\"white\" if cm[i, j] > thresh else \"black\")\n",
    "\n",
    "    plt.tight_layout()\n",
    "    plt.ylabel('True label')\n",
    "    plt.xlabel('Predicted label')\n",
    "    return cm"
   ]
  },
  {
   "cell_type": "code",
   "execution_count": 8,
   "metadata": {
    "collapsed": false
   },
   "outputs": [
    {
     "name": "stdout",
     "output_type": "stream",
     "text": [
      "[[107  65]\n",
      " [ 49 126]]\n"
     ]
    },
    {
     "ename": "NameError",
     "evalue": "global name 'itertools' is not defined",
     "output_type": "error",
     "traceback": [
      "\u001b[0;31m---------------------------------------------------------------------------\u001b[0m",
      "\u001b[0;31mNameError\u001b[0m                                 Traceback (most recent call last)",
      "\u001b[0;32m<ipython-input-8-cfe1a10388e9>\u001b[0m in \u001b[0;36m<module>\u001b[0;34m()\u001b[0m\n\u001b[0;32m----> 1\u001b[0;31m \u001b[0mcnf_matrix\u001b[0m \u001b[0;34m=\u001b[0m \u001b[0mplot_confusion_matrix\u001b[0m\u001b[0;34m(\u001b[0m\u001b[0mcm\u001b[0m\u001b[0;34m,\u001b[0m \u001b[0;34m[\u001b[0m\u001b[0;36m0\u001b[0m\u001b[0;34m,\u001b[0m \u001b[0;36m1\u001b[0m\u001b[0;34m]\u001b[0m\u001b[0;34m)\u001b[0m\u001b[0;34m\u001b[0m\u001b[0m\n\u001b[0m\u001b[1;32m      2\u001b[0m \u001b[0mcnf_matrix\u001b[0m\u001b[0;34m\u001b[0m\u001b[0m\n\u001b[1;32m      3\u001b[0m \u001b[0;32mprint\u001b[0m \u001b[0mcnf_matrix\u001b[0m\u001b[0;34m\u001b[0m\u001b[0m\n",
      "\u001b[0;32m<ipython-input-7-f082046b26dc>\u001b[0m in \u001b[0;36mplot_confusion_matrix\u001b[0;34m(cm, classes, normalize, title, cmap)\u001b[0m\n\u001b[1;32m     15\u001b[0m     \u001b[0mfmt\u001b[0m \u001b[0;34m=\u001b[0m \u001b[0;34m'.2f'\u001b[0m \u001b[0;32mif\u001b[0m \u001b[0mnormalize\u001b[0m \u001b[0;32melse\u001b[0m \u001b[0;34m'd'\u001b[0m\u001b[0;34m\u001b[0m\u001b[0m\n\u001b[1;32m     16\u001b[0m     \u001b[0mthresh\u001b[0m \u001b[0;34m=\u001b[0m \u001b[0mcm\u001b[0m\u001b[0;34m.\u001b[0m\u001b[0mmax\u001b[0m\u001b[0;34m(\u001b[0m\u001b[0;34m)\u001b[0m \u001b[0;34m/\u001b[0m \u001b[0;36m2.\u001b[0m\u001b[0;34m\u001b[0m\u001b[0m\n\u001b[0;32m---> 17\u001b[0;31m     \u001b[0;32mfor\u001b[0m \u001b[0mi\u001b[0m\u001b[0;34m,\u001b[0m \u001b[0mj\u001b[0m \u001b[0;32min\u001b[0m \u001b[0mitertools\u001b[0m\u001b[0;34m.\u001b[0m\u001b[0mproduct\u001b[0m\u001b[0;34m(\u001b[0m\u001b[0mrange\u001b[0m\u001b[0;34m(\u001b[0m\u001b[0mcm\u001b[0m\u001b[0;34m.\u001b[0m\u001b[0mshape\u001b[0m\u001b[0;34m[\u001b[0m\u001b[0;36m0\u001b[0m\u001b[0;34m]\u001b[0m\u001b[0;34m)\u001b[0m\u001b[0;34m,\u001b[0m \u001b[0mrange\u001b[0m\u001b[0;34m(\u001b[0m\u001b[0mcm\u001b[0m\u001b[0;34m.\u001b[0m\u001b[0mshape\u001b[0m\u001b[0;34m[\u001b[0m\u001b[0;36m1\u001b[0m\u001b[0;34m]\u001b[0m\u001b[0;34m)\u001b[0m\u001b[0;34m)\u001b[0m\u001b[0;34m:\u001b[0m\u001b[0;34m\u001b[0m\u001b[0m\n\u001b[0m\u001b[1;32m     18\u001b[0m         plt.text(j, i, format(cm[i, j], fmt),\n\u001b[1;32m     19\u001b[0m                  \u001b[0mhorizontalalignment\u001b[0m\u001b[0;34m=\u001b[0m\u001b[0;34m\"center\"\u001b[0m\u001b[0;34m,\u001b[0m\u001b[0;34m\u001b[0m\u001b[0m\n",
      "\u001b[0;31mNameError\u001b[0m: global name 'itertools' is not defined"
     ]
    },
    {
     "data": {
      "image/png": "[encoded data removed]",
      "text/plain": [
       "<matplotlib.figure.Figure at 0x7f1d504cfa10>"
      ]
     },
     "metadata": {},
     "output_type": "display_data"
    }
   ],
   "source": [
    "cnf_matrix = plot_confusion_matrix(cm, [0, 1])\n",
    "cnf_matrix\n",
    "print cnf_matrix"
   ]
  },
  {
   "cell_type": "code",
   "execution_count": null,
   "metadata": {
    "collapsed": true
   },
   "outputs": [],
   "source": []
  }
 ],
 "metadata": {
  "kernelspec": {
   "display_name": "Python 2",
   "language": "python",
   "name": "python2"
  },
  "language_info": {
   "codemirror_mode": {
    "name": "ipython",
    "version": 2
   },
   "file_extension": ".py",
   "mimetype": "text/x-python",
   "name": "python",
   "nbconvert_exporter": "python",
   "pygments_lexer": "ipython2",
   "version": "2.7.13"
  }
 },
 "nbformat": 4,
 "nbformat_minor": 0
}
